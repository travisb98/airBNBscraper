{
 "metadata": {
  "language_info": {
   "codemirror_mode": {
    "name": "ipython",
    "version": 3
   },
   "file_extension": ".py",
   "mimetype": "text/x-python",
   "name": "python",
   "nbconvert_exporter": "python",
   "pygments_lexer": "ipython3",
   "version": "3.6.10-final"
  },
  "orig_nbformat": 2,
  "kernelspec": {
   "name": "python3610jvsc74a57bd07e7c916c673641125590bd307b68bb4342787996dc085909d7e5c72ee4d13010",
   "display_name": "Python 3.6.10 64-bit ('PythonData': conda)"
  }
 },
 "nbformat": 4,
 "nbformat_minor": 2,
 "cells": [
  {
   "cell_type": "code",
   "execution_count": 32,
   "metadata": {},
   "outputs": [],
   "source": [
    "import csv\n",
    "from splinter import Browser\n",
    "from bs4 import BeautifulSoup as bs\n",
    "import time\n",
    "import datetime"
   ]
  },
  {
   "cell_type": "code",
   "execution_count": 1,
   "metadata": {},
   "outputs": [],
   "source": [
    "\n",
    "\n",
    "with open('links.csv') as links:\n",
    "    # print(links)\n",
    "    linkReader = csv.reader(links)\n",
    "    # print(linkReader)\n",
    "\n",
    "    # saving the links as a list\n",
    "    links = [x[0] for x in linkReader]\n",
    "    # for x in linkReader:\n",
    "    #     print(x)\n",
    "\n"
   ]
  },
  {
   "cell_type": "code",
   "execution_count": 2,
   "metadata": {},
   "outputs": [
    {
     "output_type": "stream",
     "name": "stdout",
     "text": [
      "['https://www.airbnb.com/rooms/44181839?adults=6&check_in=2021-08-26&check_out=2021-08-31&federated_search_id=5e280712-2e1f-42f2-9979-655134f5c0a4&source_impression_id=p3_1617845905_Z%2FEoONR0YA7peOYz&guests=1', 'https://www.airbnb.com/rooms/32183107?adults=6&check_in=2021-08-13&check_out=2021-08-15&federated_search_id=5ceeab11-766b-4c8b-8f5a-efc7920f220a&source_impression_id=p3_1617846086_FpOcJ4rpjDV7jnJb&guests=1', 'https://www.airbnb.com/rooms/47911807?adults=6&check_in=2021-08-06&check_out=2021-08-08&federated_search_id=0edcc32c-1466-430d-83d1-9e44f1695170&source_impression_id=p3_1617846803_Qq3pmHk7HkZHWTSo&guests=1', 'https://www.airbnb.com/rooms/46341613?adults=6&check_in=2021-08-25&check_out=2021-08-29&federated_search_id=5e4be765-973f-4f58-b8e5-9d3be26e644f&source_impression_id=p3_1617847048_UhpV9yUPZOgtVl7G&guests=1', 'https://www.airbnb.com/rooms/43196403?adults=6&children=0&infants=0&check_in=2021-08-06&check_out=2021-08-08&federated_search_id=5e4be765-973f-4f58-b8e5-9d3be26e644f&source_impression_id=p3_1617887580_Ks5gCpR1HJ1OJwMM', 'https://www.airbnb.com/rooms/48315251?adults=6&check_in=2021-08-04&check_out=2021-08-08&federated_search_id=2e2b1277-f8f8-400e-a813-c66d4b18eb84&source_impression_id=p3_1617904827_V5BKptGO1t1hkwTp']\n"
     ]
    }
   ],
   "source": [
    "print(links)"
   ]
  },
  {
   "cell_type": "code",
   "execution_count": 4,
   "metadata": {},
   "outputs": [
    {
     "output_type": "stream",
     "name": "stdout",
     "text": [
      "https://www.airbnb.com/rooms/44181839?adults=6&check_in=2021-08-26&check_out=2021-08-31&federated_search_id=5e280712-2e1f-42f2-9979-655134f5c0a4&source_impression_id=p3_1617845905_Z%2FEoONR0YA7peOYz&guests=1\n"
     ]
    }
   ],
   "source": [
    "\n",
    "\n",
    "link = links[0]\n",
    "print(link)"
   ]
  },
  {
   "cell_type": "code",
   "execution_count": 18,
   "metadata": {
    "tags": [
     "outputPrepend"
    ]
   },
   "outputs": [
    {
     "output_type": "stream",
     "name": "stdout",
     "text": [
      "enable_unpositioned_listingcards\":{\"nobody\":null},\"enable_paint_containment_listingcard\":{\"nobody\":null},\"stay_pdp_remove_poi_tooltip\":{\"everyone\":null},\"luxe_pdp_hide_dateless_contact\":{\"everyone\":null},\"covid_responders.p5_guest_requirements\":{\"everyone\":null},\"web_simple_checkout_p5_pq_intercept_v1\":{\"nobody\":null},\"human.donation.homes_p5_upsell.enabled\":{\"nobody\":null},\"home_p5_web_new_share_modal_force_in\":{\"nobody\":null},\"home_p5_web_new_share_modal\":{\"percent\":50},\"home_p5_moweb_new_share_modal_force_in\":{\"nobody\":null},\"home_p5_moweb_new_share_modal\":{\"percent\":50},\"checkout_vertical_cancellation_policy\":{\"users\":[50315106,1359911]},\"enable_paint_containment_drawer\":{\"nobody\":null},\"enable_paint_containment_mapsheet\":{\"nobody\":null},\"explore_guest_platform_m2_force_in\":{\"hostnames\":[\"next.airbnb.com\"]},\"stay_checkout_show_reviews_string_for_review_count_web.enable\":{\"everyone\":null},\"prohost.lts.sublets_test_error\":{\"users\":[17276172]},\"stays_pdp_pathname_without_subpages_check_killswitch\":{\"nobody\":null},\"experiences_guest_place_pdp_experience_link\":{\"everyone\":null},\"pdp_e2e_logging_benchmark_enabled\":{\"everyone\":null},\"linaria_migration_beta_v1\":{},\"linaria_migration_beta_v1_force_in\":{},\"web.homes_simple_checkout.prefetch\":{\"nobody\":null,\"users\":[364540391]},\"simple_checkout_cc_on_p4\":{},\"hrd.use_v2_api\":{\"nobody\":null},\"china_holiday_calendar\":{\"everyone\":null},\"hlp_lys_force_start_step\":{\"everyone\":null},\"guidebook.enable_advice_feedback\":{\"everyone\":null},\"travel_guide.cover_page_enabled\":{\"users\":[228022857,6202453,41191887,297270188]},\"trip_ugc_translate_guidebook\":{\"percent\":100},\"trip_ugc_translate_guidebook_erf\":{\"percent\":100},\"satori_autocomplete_query_web\":{\"everyone\":null},\"alternative_dates_feedback_widget\":{\"nobody\":null},\"storefronts_header_to_nearby_p2_web_force_in\":{\"nobody\":null},\"storefronts_header_to_nearby_p2_web\":{\"everyone\":null},\"gs_location_disable_unmount_listings_on_map_pan_force\":{\"users\":[69720917]},\"gs_location_disable_unmount_listings_on_map_pan\":{\"everyone\":null},\"saves.logged_out_saves\":{},\"saves.logged_out_saves.force_treatment\":{},\"gs.plan.show_places_on_all_wishlist_maps.force_treatment\":{\"nobody\":null},\"gs.plan.show_places_on_all_wishlist_maps\":{\"everyone\":null},\"gs.plan.show_unavailable_stays_pins.force_treatment\":{},\"gs.plan.show_unavailable_stays_pins\":{\"everyone\":null},\"gs.plan.show_add_to_map.force_treatment\":{},\"gs.plan.show_add_to_map\":{\"everyone\":null},\"gs_plan.wishlists.show_suggested_places.force.web\":{\"users\":[5822927]},\"gs_plan.wishlists.show_suggested_places.global\":{\"everyone\":null},\"gs_plan.wishlists.show_suggested_places.web\":{\"everyone\":null},\"wishlists.run_wishlist_detail_graphql_query.web\":{\"nobody\":null},\"wishlist_new_share_modal_force_in\":{\"users\":[115602156,44753709,1253108,218826448,21238224,32637518,25872508,62841326,18682092,1901931,103499606,157095126,17901194,159126235,1635980]},\"web_wishlist_new_share_modal\":{\"percent\":100},\"a4p_host_associates\":{\"users\":[6224791,97678805,13738455,29245996,5492334,377981816,14410864,24902196,2391853,648518,34535728,260252027,378008123,84993291,384280338,78879803,21799048,186134200,34743534,266353713,18115549,386996586,388111077,18183216,96743285,51864683,66832276,275313783,391980695,391993387,33668085,30319894]},\"experiences.p5.private_booking_url_share\":{\"everyone\":null},\"stop_identity_web_flow_polling\":{\"everyone\":null},\"trust.identity_verification_flow.mobile_handoff.push\":{\"everyone\":null},\"trust.simplified_phone_verification\":{\"everyone\":null},\"china_account_identity_web_global_fallback\":{\"nobody\":null},\"china_id_enable_moweb_full\":{\"users\":[260491138,269420776,114942897,56281926]},\"china_account_identity_aliyun_full_flow_web_handoff\":{\"everyone\":null},\"web_identity_reduced_friction\":{},\"identity.skip_selfie_device_selection\":{\"everyone\":null},\"identity.enable_remove_confirmation_screens\":{\"everyone\":null},\"trust_membership_use_airlock_to_reauth_email_q4_2020\":{},\"web.identity.profile_editing_restrictions\":{\"everyone\":null},\"web.gov_id_deletion_endpoint_migration\":{\"users\":[355148336]},\"p2_filters_leading_more_filters_kill_switch\":{\"everyone\":null},\"intercept.search-experience.killswitch\":{\"nobody\":null},\"simple_search_corgi_compact_filters\":{},\"jasmine_filter_bar_v2.force\":{\"users\":[29864130,7876684,251167048,84993291,10480015,219754811,395799028,54430376,887367,140107458,3691518,380143406,79141009,29399578,10726589,2394596,27539176,14422544,66613869,28720389,4163367,10993054,1182900,19516781,79853990,55261246,375442272,1378877,22698270]},\"jasmine_filter_bar_v2.launch\":{},\"jasmine_filter_bar_v2.moweb\":{\"nobody\":null},\"jasmine_filter_bar_v2.web\":{},\"remove_stays_map_close_button_force\":{\"nobody\":null},\"remove_stays_map_close_button\":{\"everyone\":null},\"experiences_checkout_show_cancellation_19_messaging\":{\"logic_and\":{\"logic_and\":{\"everyone\":true,\"logic_not\":{\"users\":[32602867,4843523]}}}},\"exp_private_bookings_p4_v2\":{\"nobody\":null},\"unset_homes_checkout_flow_data\":{\"users\":[250347245],\"percent\":100},\"payments.p4_prevent_refresh_reroute.force_in\":{},\"oauth_popup\":{\"everyone\":null},\"booking_auth_moweb_signup_to_book_title_force\":{\"chef_roles\":[\"monorail-next\"]},\"booking_auth_moweb_signup_to_book_title\":{\"everyone\":null},\"exp_p5_5_redirect_to_t1\":{\"everyone\":null},\"exp_p5_5_redirect_to_t1_force_in\":{\"nobody\":null},\"exp_p5_5_hide_first_section_header\":{\"nobody\":null},\"exp_p5_5_oe_upsell\":{\"everyone\":null},\"exp_p5_5_oe_upsell_force\":{\"users\":[50315106,15217831,1545143,342892496,115235449]},\"payments_mpl_dls19_force_in\":{\"nobody\":null},\"kill-userleap-intercepts\":{},\"map_row_improvement_simplification.force\":{\"remote_host\":[\"next.airbnb.com\"],\"users\":[905786]},\"map_row_improvement_simplification.enable\":{\"logic_not\":{\"android_with_app_versions\":\"0.0-21.14\",\"ios_with_app_versions\":\"0.0-21.14\",\"locale\":[\"zh\"]}},\"trip_planner.web.feedback_widget.v1\":{\"language\":[\"en\"]},\"trip_planner_exp_suggestion_above_fold.force\":{\"users\":[29760796,342892496]},\"trip_planner_exp_suggestion_above_fold.web\":{\"everyone\":null},\"user_promo_page_activate_on_click\":{\"nobody\":null},\"user_promo_page_vanity_url\":{\"users\":[158363652,27113715,50874384,21468967,21412532,11051079,147273071,188386333,10546665,21377289,73211026,28254367,234787711,151269032,12220211,21787759,21934614,27795688,248863256,257653779,72906586],\"everyone\":null},\"user_promo_page_description\":{\"users\":[151573896]},\"user_promo_page_hide_publish_button_group\":{},\"prohost.off_platform.anonymized_email_removal_whitelist_ui\":{\"everyone\":null},\"pro_marketing_async_load_reviews\":{\"everyone\":null},\"gs.plan.alerts_hyperloop_page_enabled\":{\"everyone\":null},\"google_recaptcha_v3_web_force_in_platform\":{},\"google_recaptcha_v3_web_platform\":{\"everyone\":null},\"web_messaging_raven_logging\":{\"users\":[7731571]},\"web_messaging_avatar_profile_link_force_in\":{\"users\":[81312696,385613138,385614246,143788628,626054,7731571],\"everyone\":null},\"web_messaging_avatar_profile_link\":{\"users\":[7731571]},\"antidiscrimination.friendly_messaging_web.force_in\":{\"logic_and\":{\"remote_host\":[\"next.airbnb.com\"],\"users\":[42839091]}},\"antidiscrimination.friendly_messaging_web\":{\"language\":[\"en\"]},\"wedding_cake_web_shiota_report_newer_items\":{},\"wedding_cake_web_shiota_report_polling\":{\"everyone\":null},\"wedding_cake_web_shiota_report_mark_thread_read\":{\"percent\":20},\"wedding_cake_web_shiota_report_fetch_older_items\":{\"percent\":20},\"wedding_cake_web_shiota_report_fetch_item\":{\"percent\":20},\"exp_coho.sidebar_ui\":{\"everyone\":null},\"web_messaging_night_time_indicator_force_in\":{\"users\":[7731571,388862468,388864888,388866034,388866764,316799465,222456014,223354967,223523974,223865387,53175541]},\"web_messaging_night_time_indicator\":{\"everyone\":null},\"prohost_inbox.hide_host_product_header\":{\"everyone\":null},\"web_messaging_enable_airlock_handling_kill_switch\":{},\"web_messaging_enable_airlock_handling_experiment\":{\"users\":[310521359]},\"google_recaptcha_v3_web_contact_us\":{},\"china_wom_team_disable_china_referral_in_user_menu\":{\"nobody\":null},\"hosting_services.core_guest_entry_point\":{\"users\":[251560934,346805805]},\"hosting_inbox_hyperloop_migration\":{\"nobody\":null,\"users\":[225601747,59993646,103737079,59677354,17276172,310688871]},\"use_new_calendar_router\":{\"everyone\":null},\"lux.luxe_pdp.new_inquiry_endpoint\":{\"everyone\":null},\"china_early_bird\":{\"everyone\":null},\"mys_length_of_stay_decimal\":{\"everyone\":null},\"mys_early_bird_decimal\":{\"everyone\":null},\"stays_pdp_stacked_photo_tour_web\":{},\"pdp_experiences_video_posttask_moweb\":{\"nobody\":null},\"cs_platform_field_guide_deprecation_for_development\":{},\"cs_platform_field_guide_deprecation\":{},\"membership.resize_captcha\":{\"everyone\":null},\"china_single_captcha_force_in\":{\"users\":[394883956]},\"trust_exp_aov_prevent_akba_web\":{\"everyone\":null},\"should_switch_recaptcha_domain\":{\"logic_and\":{\"everyone\":\"\",\"logic_not\":{\"users\":[342782777,251967079,308867066,298220649,324962921,100769481,271098244,56281926,294564901,341235284,85920524,309000450,173308779,347198786,386794437]}}},\"fin_fraud.migrate_micro_auth_payload\":{\"users\":[337752919]},\"risk.micro_auth_hard_block\":{\"everyone\":null},\"china_trust_defense.captcha_miniapps\":{\"everyone\":null},\"finfraud.plaid_sandbox_environment\":{\"nobody\":null},\"homes_host_response_time_hrd_on\":{\"everyone\":null},\"host_tools_cx_update_check_in_info_hrd_web\":{\"everyone\":null},\"hrd_show_covid_19_responder_instruction\":{\"everyone\":null},\"covid_responders.covid_search_flow_launch_all\":{\"users\":[18955255,7402628,73409787,24902196,2709421,5492334,648518,314174746,283446,6438086,2450973,33843926,342762633,13699839,129165,342825839,316799465,342886168,2372421,202891324,250347245,4316931,7731571,28720389,15576125,251167048,156605370,150541955,67169308,342907538,342907724,342907895,203617512,342942914,11051079,342347503,128922481,77815152,357509571],\"logic_and\":{\"everyone\":\"\",\"logic_not\":{\"logic_or\":{\"visitor_country\":[\"AR\",\"EC\",\"PE\"],\"tld_country\":[\"AR\",\"EC\",\"PE\"]}}}},\"hrd_show_covid_19_ib_disabled_instruction_web_kill_switch\":{},\"host_response_time_hrd_inquiry_forced_in\":{\"users\":[143793158]},\"hrd.capture_payloads\":{\"everyone\":null},\"remy.use_consolidated_endpoints\":{\"users\":[23684569],\"everyone\":null},\"homes_host_reso_details.enable_listing_id_r11n\":{\"everyone\":null},\"send_special_offer_via_remy\":{\"everyone\":null},\"reservation_format_for_host_reservation_details_web\":{\"nobody\":null},\"accept_or_deny_reservation_through_remy\":{\"everyone\":null},\"homes_host_reso_details_home_inquiry\":{\"users\":[91729608,124759598],\"everyone\":null},\"send_preapproval_via_remy\":{\"everyone\":null},\"withdraw_special_offer_through_remy\":{\"users\":[23684569],\"admins\":null,\"percent\":100},\"stay_p2_remove_poi_tooltip\":{\"everyone\":null},\"koanv2_controller\":{\"hostnames\":[\"next.airbnb.com\",\"preprod.airbnb.com\"]},\"explore_batch_map_state_updates\":{\"everyone\":null},\"mys_add_listing_photo_through_miso\":{\"everyone\":null},\"lys_miso_migration_add_replace_listing_photo\":{\"everyone\":null},\"web_host_hub_entry_points_field_guide\":{\"everyone\":null},\"web_host_hub_entry_points_field_guide_force_in\":{\"users\":[21934614,14749]},\"cs_platform_help_center_article_product_instructions_development\":{},\"cs_platform_help_center_article_product_instructions\":{\"everyone\":null},\"csp_article_section_nav_development\":{},\"csp_article_section_nav\":{\"everyone\":null},\"disable_dual_erf_logging\":{\"ssr_resolved\":true},\"e2e_logging.web_tab_tracking\":{\"ssr_resolved\":true},\"trust.bot_detection.enable_recaptcha_sdk.logged_in_users\":{\"ssr_resolved\":false},\"initialize-cookies-consent-before-gtm\":{\"ssr_resolved\":false},\"a4w.sso.m1.a4w5559\":{\"ssr_resolved\":true},\"kill_desktop_service_workers_v4\":{\"ssr_resolved\":false},\"metro_prod_sw\":{\"everyone\":null},\"sw_enable_offline\":{},\"sw_disable_niobe_cache\":{\"nobody\":null},\"sw_pwa_disable_niobe_cache\":{\"nobody\":null},\"sw_pwa_enable_skip_waiting\":{},\"sw_allow_shell_on_search_verticals\":{\"remote_host\":[\"next.airbnb.com\"]},\"disable_all_service_workers\":{},\"temporarily_disable_service_workers_for_me\":{\"users\":[10546665,314552549,314553683,29864130]},\"hyperloop_script_crossorigin_enabled\":{\"ssr_resolved\":true},\"community_commitment_page_hyperloop_migration\":{\"ssr_resolved\":false},\"modern_build\":{\"ssr_resolved\":false},\"modern_build_no_duplicate_chunks\":{\"ssr_resolved\":true},\"hyperloop.testing_trebuchet_everyone\":{\"ssr_resolved\":true},\"hyperloop.testing_trebuchet_nobody\":{\"ssr_resolved\":false},\"hyperloop.testing_trebuchet_abnb_dotcom_only\":{\"ssr_resolved\":true},\"web_styling_linaria_extract_critical\":{\"ssr_resolved\":true},\"legacy_browser_roadblock_rollout\":{\"ssr_resolved\":true},\"disable_is_active_host_cookie\":{\"ssr_resolved\":true}},\"trebuchetContext\":{\"hostname\":\"www.airbnb.com\",\"locale\":\"en\"}}</script><script id=\"data-apollo-state\" data-apollo-state=\"true\" type=\"application/json\">{}</script><script id=\"data-aphrodite-css\" data-aphrodite-css=\"true\" type=\"application/json\">[\"_1cnse2m\",\"_2hs30c\",\"_e296pg\",\"_16grqhk\",\"_siy8gh\",\"_1gw6tte\",\"_kg17g8e\",\"_eqf9j0\",\"_otdka\",\"_1c0ocmt\",\"_19h9w7f\",\"_qkr85q\",\"_o6689fn\",\"_1grlqto\",\"_17ctt5\",\"_poaz3m\",\"_t0k0we\",\"keyframe_1cjd84a\",\"_1fgkwjk3\",\"_11ckf5n4\",\"_2ovlnq\",\"_vuzcgs\",\"_176ugpa\",\"_3hmsj\",\"_1ubw29\",\"_z5mecy\",\"_1x6o0b9n\",\"_iglww7\",\"_167wsvl\",\"_1usxwsg6\",\"_1sfnwgq\",\"_1g865qv3\",\"_14tt8lmp\",\"_ojs7nk\",\"_1qvp8oxp\",\"_apke5g\",\"_gmaj6l\",\"_4i7tcd\",\"_le6wlg\",\"_rjmoz32\",\"_1tdpr07f\",\"keyframe_1vunhnd\",\"_1vdcswu\",\"_5ltqju\",\"_13sj9hk\",\"_178t1g5\",\"_1l7oqbd\",\"_924zz4g\",\"_1827gf2\",\"_z80d2i\",\"_9xgknn\",\"_168ht2w\",\"_skzmvy\",\"_ekor09\",\"_g9yb1m\",\"_16e70jgn\",\"_zjunba\",\"_e615pd\",\"_d02fi4\",\"_11zkq9w\",\"_1dvr2o\",\"_1s21a6e2\",\"_1uqg5g6r\",\"_1uqdgrn\",\"_y0sism\",\"_1p9di97\",\"_1s94zl78\",\"_fyxf74\",\"_1wsqynx\",\"_1l3ys1i\",\"_tfslnm\",\"_yuolfv\",\"_wmuyow\",\"_o06542u\",\"_1tu1axq\",\"_1m14l43\",\"_2ms5qb\",\"_zyu73r\",\"_jro6t0\",\"_19c5bku\",\"_14tkmhr\",\"_bjxj6b\",\"_1kejnocv\",\"_krjbj\",\"_115qwnm\",\"_kdkpwk\",\"_s7cvp1u\",\"_j8ldew\",\"_pd8gea\",\"_9q359r\",\"_1br4kkl\",\"_opoa3c\",\"_10wqwyj\"]</script><script id=\"data-is-metro\" data-is-metro=\"true\" type=\"application/json\">false</script><div id=\"field-guide-container\"><div dir=\"ltr\"></div></div><style>#fb_xdm_frame_https{visibility:hidden}</style><div id=\"fb-root\" class=\" fb_reset\"><div style=\"position: absolute; top: -10000px; width: 0px; height: 0px;\"><div></div></div></div><div id=\"authModals\"></div><script src=\"/334fd63c6drn25077ddba0e4c425210c.js\"></script><div><div class=\"grecaptcha-badge\" data-style=\"bottomright\" style=\"width: 256px; height: 60px; display: block; transition: right 0.3s ease 0s; position: fixed; bottom: 14px; right: -186px; box-shadow: gray 0px 0px 5px; border-radius: 2px; overflow: hidden;\"><div class=\"grecaptcha-logo\"><iframe src=\"https://www.google.com/recaptcha/api2/anchor?ar=1&amp;k=6LflNKsUAAAAAJZAn48kK7mF-KMioLD3aLZm0thD&amp;co=aHR0cHM6Ly93d3cuYWlyYm5iLmNvbTo0NDM.&amp;hl=en&amp;v=5mNs27FP3uLBP3KBPib88r1g&amp;size=invisible&amp;cb=wlc6okul7jep\" width=\"256\" height=\"60\" role=\"presentation\" name=\"a-h9zotxtww85e\" frameborder=\"0\" scrolling=\"no\" sandbox=\"allow-forms allow-popups allow-same-origin allow-scripts allow-top-navigation allow-modals allow-popups-to-escape-sandbox\"></iframe></div><div class=\"grecaptcha-error\"></div><textarea id=\"g-recaptcha-response-100000\" name=\"g-recaptcha-response\" class=\"g-recaptcha-response\" style=\"width: 250px; height: 40px; border: 1px solid rgb(193, 193, 193); margin: 10px 25px; padding: 0px; resize: none; display: none;\"></textarea></div><iframe style=\"display: none;\"></iframe></div><iframe height=\"0\" width=\"0\" style=\"display: none; visibility: hidden;\" src=\"//4620401.fls.doubleclick.net/activityi;src=4620401;type=conve0;cat=p3pdp0;ord=1;num=2267947602662;gtm=2wg3v0;auiddc=102065598.1617944614;u11=2021-08-26;u12=2021-08-31;u1=5;u10=undefined;u16=Searsport;u17=US;u19=https%3A%2F%2Fwww.airbnb.com%2Frooms%2F44181839%3Fadults%3D6%26check_in%3D2021-08-26%26check_out%3D2021-08-31%26federated_search_id%3D5e280712-2e1f-42f2-9979-655134f5c0a4%26source_impression_id%3Dp3_1617845905_Z%252FEoONR0YA7peOYz%26guests%3D1;u7=6;u8=0;u9=0;u22=false;u21=visitor;u34=0;u5=1617944608_ODY0OTkxNjEwMGRm;~oref=https%3A%2F%2Fwww.airbnb.com%2Frooms%2F44181839%3Fadults%3D6%26check_in%3D2021-08-26%26check_out%3D2021-08-31%26federated_search_id%3D5e280712-2e1f-42f2-9979-655134f5c0a4%26source_impression_id%3Dp3_1617845905_Z%252FEoONR0YA7peOYz%26guests%3D1?\"></iframe><iframe height=\"0\" width=\"0\" style=\"display: none; visibility: hidden;\" src=\"//4620401.fls.doubleclick.net/activityi;src=4620401;type=gen;cat=airbn0;ord=1;num=2605410116988;gtm=2wg3v0;auiddc=102065598.1617944614;u19=https%3A%2F%2Fwww.airbnb.com%2Frooms%2F44181839%3Fadults%3D6%26check_in%3D2021-08-26%26check_out%3D2021-08-31%26federated_search_id%3D5e280712-2e1f-42f2-9979-655134f5c0a4%26source_impression_id%3Dp3_1617845905_Z%252FEoONR0YA7peOYz%26guests%3D1;u21=visitor;u22=false;u34=0;~oref=https%3A%2F%2Fwww.airbnb.com%2Frooms%2F44181839%3Fadults%3D6%26check_in%3D2021-08-26%26check_out%3D2021-08-31%26federated_search_id%3D5e280712-2e1f-42f2-9979-655134f5c0a4%26source_impression_id%3Dp3_1617845905_Z%252FEoONR0YA7peOYz%26guests%3D1?\"></iframe><iframe height=\"0\" width=\"0\" style=\"display: none; visibility: hidden;\" src=\"//4620401.fls.doubleclick.net/activityi;src=4620401;type=tdu;cat=dmflo0;ord=607504202979;gtm=2wg3v0;auiddc=102065598.1617944614;~oref=https%3A%2F%2Fwww.airbnb.com%2Frooms%2F44181839%3Fadults%3D6%26check_in%3D2021-08-26%26check_out%3D2021-08-31%26federated_search_id%3D5e280712-2e1f-42f2-9979-655134f5c0a4%26source_impression_id%3Dp3_1617845905_Z%252FEoONR0YA7peOYz%26guests%3D1?\"></iframe><iframe height=\"0\" width=\"0\" style=\"display: none; visibility: hidden;\" src=\"//4620401.fls.doubleclick.net/activityi;src=4620401;type=tdu;cat=dm_us_vu;ord=1;num=2960180413811;gtm=2wg3v0;auiddc=102065598.1617944614;~oref=https%3A%2F%2Fwww.airbnb.com%2Frooms%2F44181839%3Fadults%3D6%26check_in%3D2021-08-26%26check_out%3D2021-08-31%26federated_search_id%3D5e280712-2e1f-42f2-9979-655134f5c0a4%26source_impression_id%3Dp3_1617845905_Z%252FEoONR0YA7peOYz%26guests%3D1?\"></iframe><div id=\"scroll-hit-tester-0\" style=\"top: 0px; position: absolute; height: 1px; width: 1px; z-index: -1; contain: strict;\"></div><div style=\"width:0px; height:0px; display:none; visibility:hidden;\" id=\"batBeacon979070329848\"><img style=\"width:0px; height:0px; display:none; visibility:hidden;\" id=\"batBeacon617439728896\" width=\"0\" height=\"0\" alt=\"\" src=\"https://bat.bing.com/action/0?ti=5187185&amp;tm=gtm001&amp;Ver=2&amp;mid=30f4c665-8171-4eef-82db-3a64e67f5516&amp;sid=ef9c7cf098f011ebb3a7ff9ca88b6651&amp;vid=ef9df74098f011eb89681d75ef2332f5&amp;vids=1&amp;pi=1200101525&amp;lg=en-US&amp;sw=1920&amp;sh=1080&amp;sc=24&amp;tl=Crescent's%20Nook%3A%20Waterfront%20Gem%20on%20Spring%20Fed%20Pond%20-%20Cottages%20for%20Rent%20in%20Searsport,%20Maine,%20United%20States&amp;p=https%3A%2F%2Fwww.airbnb.com%2Frooms%2F44181839%3Fadults%3D6%26check_in%3D2021-08-26%26check_out%3D2021-08-31%26federated_search_id%3D5e280712-2e1f-42f2-9979-655134f5c0a4%26source_impression_id%3Dp3_1617845905_Z%252FEoONR0YA7peOYz%26guests%3D1&amp;r=&amp;lt=2346&amp;evt=pageLoad&amp;msclkid=N&amp;sv=1&amp;rn=899809\"></div><iframe height=\"0\" width=\"0\" style=\"display: none; visibility: hidden;\" src=\"//4620401.fls.doubleclick.net/activityi;src=4620401;type=conve0;cat=p3pdp0;ord=1;num=5621049016512;gtm=2wg3v0;auiddc=102065598.1617944614;u11=2021-08-26;u12=2021-08-31;u1=5;u10=undefined;u16=Searsport;u17=US;u19=https%3A%2F%2Fwww.airbnb.com%2Frooms%2F44181839%3Fadults%3D6%26check_in%3D2021-08-26%26check_out%3D2021-08-31%26federated_search_id%3D5e280712-2e1f-42f2-9979-655134f5c0a4%26source_impression_id%3Dp3_1617845905_Z%252FEoONR0YA7peOYz%26guests%3D1;u7=6;u8=0;u9=0;u22=false;u21=visitor;u34=0;u5=1617944608_ODY0OTkxNjEwMGRm;~oref=https%3A%2F%2Fwww.airbnb.com%2Frooms%2F44181839%3Fadults%3D6%26check_in%3D2021-08-26%26check_out%3D2021-08-31%26federated_search_id%3D5e280712-2e1f-42f2-9979-655134f5c0a4%26source_impression_id%3Dp3_1617845905_Z%252FEoONR0YA7peOYz%26guests%3D1?\"></iframe><iframe src=\"https://bid.g.doubleclick.net/xbbe/pixel?d=KAE\" style=\"display: none;\"></iframe></body></html>\n"
     ]
    }
   ],
   "source": [
    "# define executable path using location of chrome drive\n",
    "executable_path = {'executable_path': \"C:/Program Files (x86)/Chrome Driver/chromedriver.exe\"}\n",
    "\n",
    "# executable_path = {'executable_path': \"C:/Program Files/Google/Chrome/Application/chrome.exe\"}\n",
    "\n",
    "browser = Browser('chrome', executable_path, headless=False)\n",
    "\n",
    "\n",
    "browser.visit(link)\n",
    "\n",
    "time.sleep(10)\n",
    "\n",
    "airHTML=browser.html\n",
    "time.sleep(10)\n",
    "print(airHTML)\n",
    "\n",
    "## close the browser\n",
    "browser.quit()\n",
    "\n"
   ]
  },
  {
   "cell_type": "code",
   "execution_count": 19,
   "metadata": {
    "tags": [
     "outputPrepend"
    ]
   },
   "outputs": [
    {
     "output_type": "stream",
     "name": "stdout",
     "text": [
      "enable_unpositioned_listingcards\":{\"nobody\":null},\"enable_paint_containment_listingcard\":{\"nobody\":null},\"stay_pdp_remove_poi_tooltip\":{\"everyone\":null},\"luxe_pdp_hide_dateless_contact\":{\"everyone\":null},\"covid_responders.p5_guest_requirements\":{\"everyone\":null},\"web_simple_checkout_p5_pq_intercept_v1\":{\"nobody\":null},\"human.donation.homes_p5_upsell.enabled\":{\"nobody\":null},\"home_p5_web_new_share_modal_force_in\":{\"nobody\":null},\"home_p5_web_new_share_modal\":{\"percent\":50},\"home_p5_moweb_new_share_modal_force_in\":{\"nobody\":null},\"home_p5_moweb_new_share_modal\":{\"percent\":50},\"checkout_vertical_cancellation_policy\":{\"users\":[50315106,1359911]},\"enable_paint_containment_drawer\":{\"nobody\":null},\"enable_paint_containment_mapsheet\":{\"nobody\":null},\"explore_guest_platform_m2_force_in\":{\"hostnames\":[\"next.airbnb.com\"]},\"stay_checkout_show_reviews_string_for_review_count_web.enable\":{\"everyone\":null},\"prohost.lts.sublets_test_error\":{\"users\":[17276172]},\"stays_pdp_pathname_without_subpages_check_killswitch\":{\"nobody\":null},\"experiences_guest_place_pdp_experience_link\":{\"everyone\":null},\"pdp_e2e_logging_benchmark_enabled\":{\"everyone\":null},\"linaria_migration_beta_v1\":{},\"linaria_migration_beta_v1_force_in\":{},\"web.homes_simple_checkout.prefetch\":{\"nobody\":null,\"users\":[364540391]},\"simple_checkout_cc_on_p4\":{},\"hrd.use_v2_api\":{\"nobody\":null},\"china_holiday_calendar\":{\"everyone\":null},\"hlp_lys_force_start_step\":{\"everyone\":null},\"guidebook.enable_advice_feedback\":{\"everyone\":null},\"travel_guide.cover_page_enabled\":{\"users\":[228022857,6202453,41191887,297270188]},\"trip_ugc_translate_guidebook\":{\"percent\":100},\"trip_ugc_translate_guidebook_erf\":{\"percent\":100},\"satori_autocomplete_query_web\":{\"everyone\":null},\"alternative_dates_feedback_widget\":{\"nobody\":null},\"storefronts_header_to_nearby_p2_web_force_in\":{\"nobody\":null},\"storefronts_header_to_nearby_p2_web\":{\"everyone\":null},\"gs_location_disable_unmount_listings_on_map_pan_force\":{\"users\":[69720917]},\"gs_location_disable_unmount_listings_on_map_pan\":{\"everyone\":null},\"saves.logged_out_saves\":{},\"saves.logged_out_saves.force_treatment\":{},\"gs.plan.show_places_on_all_wishlist_maps.force_treatment\":{\"nobody\":null},\"gs.plan.show_places_on_all_wishlist_maps\":{\"everyone\":null},\"gs.plan.show_unavailable_stays_pins.force_treatment\":{},\"gs.plan.show_unavailable_stays_pins\":{\"everyone\":null},\"gs.plan.show_add_to_map.force_treatment\":{},\"gs.plan.show_add_to_map\":{\"everyone\":null},\"gs_plan.wishlists.show_suggested_places.force.web\":{\"users\":[5822927]},\"gs_plan.wishlists.show_suggested_places.global\":{\"everyone\":null},\"gs_plan.wishlists.show_suggested_places.web\":{\"everyone\":null},\"wishlists.run_wishlist_detail_graphql_query.web\":{\"nobody\":null},\"wishlist_new_share_modal_force_in\":{\"users\":[115602156,44753709,1253108,218826448,21238224,32637518,25872508,62841326,18682092,1901931,103499606,157095126,17901194,159126235,1635980]},\"web_wishlist_new_share_modal\":{\"percent\":100},\"a4p_host_associates\":{\"users\":[6224791,97678805,13738455,29245996,5492334,377981816,14410864,24902196,2391853,648518,34535728,260252027,378008123,84993291,384280338,78879803,21799048,186134200,34743534,266353713,18115549,386996586,388111077,18183216,96743285,51864683,66832276,275313783,391980695,391993387,33668085,30319894]},\"experiences.p5.private_booking_url_share\":{\"everyone\":null},\"stop_identity_web_flow_polling\":{\"everyone\":null},\"trust.identity_verification_flow.mobile_handoff.push\":{\"everyone\":null},\"trust.simplified_phone_verification\":{\"everyone\":null},\"china_account_identity_web_global_fallback\":{\"nobody\":null},\"china_id_enable_moweb_full\":{\"users\":[260491138,269420776,114942897,56281926]},\"china_account_identity_aliyun_full_flow_web_handoff\":{\"everyone\":null},\"web_identity_reduced_friction\":{},\"identity.skip_selfie_device_selection\":{\"everyone\":null},\"identity.enable_remove_confirmation_screens\":{\"everyone\":null},\"trust_membership_use_airlock_to_reauth_email_q4_2020\":{},\"web.identity.profile_editing_restrictions\":{\"everyone\":null},\"web.gov_id_deletion_endpoint_migration\":{\"users\":[355148336]},\"p2_filters_leading_more_filters_kill_switch\":{\"everyone\":null},\"intercept.search-experience.killswitch\":{\"nobody\":null},\"simple_search_corgi_compact_filters\":{},\"jasmine_filter_bar_v2.force\":{\"users\":[29864130,7876684,251167048,84993291,10480015,219754811,395799028,54430376,887367,140107458,3691518,380143406,79141009,29399578,10726589,2394596,27539176,14422544,66613869,28720389,4163367,10993054,1182900,19516781,79853990,55261246,375442272,1378877,22698270]},\"jasmine_filter_bar_v2.launch\":{},\"jasmine_filter_bar_v2.moweb\":{\"nobody\":null},\"jasmine_filter_bar_v2.web\":{},\"remove_stays_map_close_button_force\":{\"nobody\":null},\"remove_stays_map_close_button\":{\"everyone\":null},\"experiences_checkout_show_cancellation_19_messaging\":{\"logic_and\":{\"logic_and\":{\"everyone\":true,\"logic_not\":{\"users\":[32602867,4843523]}}}},\"exp_private_bookings_p4_v2\":{\"nobody\":null},\"unset_homes_checkout_flow_data\":{\"users\":[250347245],\"percent\":100},\"payments.p4_prevent_refresh_reroute.force_in\":{},\"oauth_popup\":{\"everyone\":null},\"booking_auth_moweb_signup_to_book_title_force\":{\"chef_roles\":[\"monorail-next\"]},\"booking_auth_moweb_signup_to_book_title\":{\"everyone\":null},\"exp_p5_5_redirect_to_t1\":{\"everyone\":null},\"exp_p5_5_redirect_to_t1_force_in\":{\"nobody\":null},\"exp_p5_5_hide_first_section_header\":{\"nobody\":null},\"exp_p5_5_oe_upsell\":{\"everyone\":null},\"exp_p5_5_oe_upsell_force\":{\"users\":[50315106,15217831,1545143,342892496,115235449]},\"payments_mpl_dls19_force_in\":{\"nobody\":null},\"kill-userleap-intercepts\":{},\"map_row_improvement_simplification.force\":{\"remote_host\":[\"next.airbnb.com\"],\"users\":[905786]},\"map_row_improvement_simplification.enable\":{\"logic_not\":{\"android_with_app_versions\":\"0.0-21.14\",\"ios_with_app_versions\":\"0.0-21.14\",\"locale\":[\"zh\"]}},\"trip_planner.web.feedback_widget.v1\":{\"language\":[\"en\"]},\"trip_planner_exp_suggestion_above_fold.force\":{\"users\":[29760796,342892496]},\"trip_planner_exp_suggestion_above_fold.web\":{\"everyone\":null},\"user_promo_page_activate_on_click\":{\"nobody\":null},\"user_promo_page_vanity_url\":{\"users\":[158363652,27113715,50874384,21468967,21412532,11051079,147273071,188386333,10546665,21377289,73211026,28254367,234787711,151269032,12220211,21787759,21934614,27795688,248863256,257653779,72906586],\"everyone\":null},\"user_promo_page_description\":{\"users\":[151573896]},\"user_promo_page_hide_publish_button_group\":{},\"prohost.off_platform.anonymized_email_removal_whitelist_ui\":{\"everyone\":null},\"pro_marketing_async_load_reviews\":{\"everyone\":null},\"gs.plan.alerts_hyperloop_page_enabled\":{\"everyone\":null},\"google_recaptcha_v3_web_force_in_platform\":{},\"google_recaptcha_v3_web_platform\":{\"everyone\":null},\"web_messaging_raven_logging\":{\"users\":[7731571]},\"web_messaging_avatar_profile_link_force_in\":{\"users\":[81312696,385613138,385614246,143788628,626054,7731571],\"everyone\":null},\"web_messaging_avatar_profile_link\":{\"users\":[7731571]},\"antidiscrimination.friendly_messaging_web.force_in\":{\"logic_and\":{\"remote_host\":[\"next.airbnb.com\"],\"users\":[42839091]}},\"antidiscrimination.friendly_messaging_web\":{\"language\":[\"en\"]},\"wedding_cake_web_shiota_report_newer_items\":{},\"wedding_cake_web_shiota_report_polling\":{\"everyone\":null},\"wedding_cake_web_shiota_report_mark_thread_read\":{\"percent\":20},\"wedding_cake_web_shiota_report_fetch_older_items\":{\"percent\":20},\"wedding_cake_web_shiota_report_fetch_item\":{\"percent\":20},\"exp_coho.sidebar_ui\":{\"everyone\":null},\"web_messaging_night_time_indicator_force_in\":{\"users\":[7731571,388862468,388864888,388866034,388866764,316799465,222456014,223354967,223523974,223865387,53175541]},\"web_messaging_night_time_indicator\":{\"everyone\":null},\"prohost_inbox.hide_host_product_header\":{\"everyone\":null},\"web_messaging_enable_airlock_handling_kill_switch\":{},\"web_messaging_enable_airlock_handling_experiment\":{\"users\":[310521359]},\"google_recaptcha_v3_web_contact_us\":{},\"china_wom_team_disable_china_referral_in_user_menu\":{\"nobody\":null},\"hosting_services.core_guest_entry_point\":{\"users\":[251560934,346805805]},\"hosting_inbox_hyperloop_migration\":{\"nobody\":null,\"users\":[225601747,59993646,103737079,59677354,17276172,310688871]},\"use_new_calendar_router\":{\"everyone\":null},\"lux.luxe_pdp.new_inquiry_endpoint\":{\"everyone\":null},\"china_early_bird\":{\"everyone\":null},\"mys_length_of_stay_decimal\":{\"everyone\":null},\"mys_early_bird_decimal\":{\"everyone\":null},\"stays_pdp_stacked_photo_tour_web\":{},\"pdp_experiences_video_posttask_moweb\":{\"nobody\":null},\"cs_platform_field_guide_deprecation_for_development\":{},\"cs_platform_field_guide_deprecation\":{},\"membership.resize_captcha\":{\"everyone\":null},\"china_single_captcha_force_in\":{\"users\":[394883956]},\"trust_exp_aov_prevent_akba_web\":{\"everyone\":null},\"should_switch_recaptcha_domain\":{\"logic_and\":{\"everyone\":\"\",\"logic_not\":{\"users\":[342782777,251967079,308867066,298220649,324962921,100769481,271098244,56281926,294564901,341235284,85920524,309000450,173308779,347198786,386794437]}}},\"fin_fraud.migrate_micro_auth_payload\":{\"users\":[337752919]},\"risk.micro_auth_hard_block\":{\"everyone\":null},\"china_trust_defense.captcha_miniapps\":{\"everyone\":null},\"finfraud.plaid_sandbox_environment\":{\"nobody\":null},\"homes_host_response_time_hrd_on\":{\"everyone\":null},\"host_tools_cx_update_check_in_info_hrd_web\":{\"everyone\":null},\"hrd_show_covid_19_responder_instruction\":{\"everyone\":null},\"covid_responders.covid_search_flow_launch_all\":{\"users\":[18955255,7402628,73409787,24902196,2709421,5492334,648518,314174746,283446,6438086,2450973,33843926,342762633,13699839,129165,342825839,316799465,342886168,2372421,202891324,250347245,4316931,7731571,28720389,15576125,251167048,156605370,150541955,67169308,342907538,342907724,342907895,203617512,342942914,11051079,342347503,128922481,77815152,357509571],\"logic_and\":{\"everyone\":\"\",\"logic_not\":{\"logic_or\":{\"visitor_country\":[\"AR\",\"EC\",\"PE\"],\"tld_country\":[\"AR\",\"EC\",\"PE\"]}}}},\"hrd_show_covid_19_ib_disabled_instruction_web_kill_switch\":{},\"host_response_time_hrd_inquiry_forced_in\":{\"users\":[143793158]},\"hrd.capture_payloads\":{\"everyone\":null},\"remy.use_consolidated_endpoints\":{\"users\":[23684569],\"everyone\":null},\"homes_host_reso_details.enable_listing_id_r11n\":{\"everyone\":null},\"send_special_offer_via_remy\":{\"everyone\":null},\"reservation_format_for_host_reservation_details_web\":{\"nobody\":null},\"accept_or_deny_reservation_through_remy\":{\"everyone\":null},\"homes_host_reso_details_home_inquiry\":{\"users\":[91729608,124759598],\"everyone\":null},\"send_preapproval_via_remy\":{\"everyone\":null},\"withdraw_special_offer_through_remy\":{\"users\":[23684569],\"admins\":null,\"percent\":100},\"stay_p2_remove_poi_tooltip\":{\"everyone\":null},\"koanv2_controller\":{\"hostnames\":[\"next.airbnb.com\",\"preprod.airbnb.com\"]},\"explore_batch_map_state_updates\":{\"everyone\":null},\"mys_add_listing_photo_through_miso\":{\"everyone\":null},\"lys_miso_migration_add_replace_listing_photo\":{\"everyone\":null},\"web_host_hub_entry_points_field_guide\":{\"everyone\":null},\"web_host_hub_entry_points_field_guide_force_in\":{\"users\":[21934614,14749]},\"cs_platform_help_center_article_product_instructions_development\":{},\"cs_platform_help_center_article_product_instructions\":{\"everyone\":null},\"csp_article_section_nav_development\":{},\"csp_article_section_nav\":{\"everyone\":null},\"disable_dual_erf_logging\":{\"ssr_resolved\":true},\"e2e_logging.web_tab_tracking\":{\"ssr_resolved\":true},\"trust.bot_detection.enable_recaptcha_sdk.logged_in_users\":{\"ssr_resolved\":false},\"initialize-cookies-consent-before-gtm\":{\"ssr_resolved\":false},\"a4w.sso.m1.a4w5559\":{\"ssr_resolved\":true},\"kill_desktop_service_workers_v4\":{\"ssr_resolved\":false},\"metro_prod_sw\":{\"everyone\":null},\"sw_enable_offline\":{},\"sw_disable_niobe_cache\":{\"nobody\":null},\"sw_pwa_disable_niobe_cache\":{\"nobody\":null},\"sw_pwa_enable_skip_waiting\":{},\"sw_allow_shell_on_search_verticals\":{\"remote_host\":[\"next.airbnb.com\"]},\"disable_all_service_workers\":{},\"temporarily_disable_service_workers_for_me\":{\"users\":[10546665,314552549,314553683,29864130]},\"hyperloop_script_crossorigin_enabled\":{\"ssr_resolved\":true},\"community_commitment_page_hyperloop_migration\":{\"ssr_resolved\":false},\"modern_build\":{\"ssr_resolved\":false},\"modern_build_no_duplicate_chunks\":{\"ssr_resolved\":true},\"hyperloop.testing_trebuchet_everyone\":{\"ssr_resolved\":true},\"hyperloop.testing_trebuchet_nobody\":{\"ssr_resolved\":false},\"hyperloop.testing_trebuchet_abnb_dotcom_only\":{\"ssr_resolved\":true},\"web_styling_linaria_extract_critical\":{\"ssr_resolved\":true},\"legacy_browser_roadblock_rollout\":{\"ssr_resolved\":true},\"disable_is_active_host_cookie\":{\"ssr_resolved\":true}},\"trebuchetContext\":{\"hostname\":\"www.airbnb.com\",\"locale\":\"en\"}}</script><script data-apollo-state=\"true\" id=\"data-apollo-state\" type=\"application/json\">{}</script><script data-aphrodite-css=\"true\" id=\"data-aphrodite-css\" type=\"application/json\">[\"_1cnse2m\",\"_2hs30c\",\"_e296pg\",\"_16grqhk\",\"_siy8gh\",\"_1gw6tte\",\"_kg17g8e\",\"_eqf9j0\",\"_otdka\",\"_1c0ocmt\",\"_19h9w7f\",\"_qkr85q\",\"_o6689fn\",\"_1grlqto\",\"_17ctt5\",\"_poaz3m\",\"_t0k0we\",\"keyframe_1cjd84a\",\"_1fgkwjk3\",\"_11ckf5n4\",\"_2ovlnq\",\"_vuzcgs\",\"_176ugpa\",\"_3hmsj\",\"_1ubw29\",\"_z5mecy\",\"_1x6o0b9n\",\"_iglww7\",\"_167wsvl\",\"_1usxwsg6\",\"_1sfnwgq\",\"_1g865qv3\",\"_14tt8lmp\",\"_ojs7nk\",\"_1qvp8oxp\",\"_apke5g\",\"_gmaj6l\",\"_4i7tcd\",\"_le6wlg\",\"_rjmoz32\",\"_1tdpr07f\",\"keyframe_1vunhnd\",\"_1vdcswu\",\"_5ltqju\",\"_13sj9hk\",\"_178t1g5\",\"_1l7oqbd\",\"_924zz4g\",\"_1827gf2\",\"_z80d2i\",\"_9xgknn\",\"_168ht2w\",\"_skzmvy\",\"_ekor09\",\"_g9yb1m\",\"_16e70jgn\",\"_zjunba\",\"_e615pd\",\"_d02fi4\",\"_11zkq9w\",\"_1dvr2o\",\"_1s21a6e2\",\"_1uqg5g6r\",\"_1uqdgrn\",\"_y0sism\",\"_1p9di97\",\"_1s94zl78\",\"_fyxf74\",\"_1wsqynx\",\"_1l3ys1i\",\"_tfslnm\",\"_yuolfv\",\"_wmuyow\",\"_o06542u\",\"_1tu1axq\",\"_1m14l43\",\"_2ms5qb\",\"_zyu73r\",\"_jro6t0\",\"_19c5bku\",\"_14tkmhr\",\"_bjxj6b\",\"_1kejnocv\",\"_krjbj\",\"_115qwnm\",\"_kdkpwk\",\"_s7cvp1u\",\"_j8ldew\",\"_pd8gea\",\"_9q359r\",\"_1br4kkl\",\"_opoa3c\",\"_10wqwyj\"]</script><script data-is-metro=\"true\" id=\"data-is-metro\" type=\"application/json\">false</script><div id=\"field-guide-container\"><div dir=\"ltr\"></div></div><style>#fb_xdm_frame_https{visibility:hidden}</style><div class=\"fb_reset\" id=\"fb-root\"><div style=\"position: absolute; top: -10000px; width: 0px; height: 0px;\"><div></div></div></div><div id=\"authModals\"></div><script src=\"/334fd63c6drn25077ddba0e4c425210c.js\"></script><div><div class=\"grecaptcha-badge\" data-style=\"bottomright\" style=\"width: 256px; height: 60px; display: block; transition: right 0.3s ease 0s; position: fixed; bottom: 14px; right: -186px; box-shadow: gray 0px 0px 5px; border-radius: 2px; overflow: hidden;\"><div class=\"grecaptcha-logo\"><iframe frameborder=\"0\" height=\"60\" name=\"a-h9zotxtww85e\" role=\"presentation\" sandbox=\"allow-forms allow-popups allow-same-origin allow-scripts allow-top-navigation allow-modals allow-popups-to-escape-sandbox\" scrolling=\"no\" src=\"https://www.google.com/recaptcha/api2/anchor?ar=1&amp;k=6LflNKsUAAAAAJZAn48kK7mF-KMioLD3aLZm0thD&amp;co=aHR0cHM6Ly93d3cuYWlyYm5iLmNvbTo0NDM.&amp;hl=en&amp;v=5mNs27FP3uLBP3KBPib88r1g&amp;size=invisible&amp;cb=wlc6okul7jep\" width=\"256\"></iframe></div><div class=\"grecaptcha-error\"></div><textarea class=\"g-recaptcha-response\" id=\"g-recaptcha-response-100000\" name=\"g-recaptcha-response\" style=\"width: 250px; height: 40px; border: 1px solid rgb(193, 193, 193); margin: 10px 25px; padding: 0px; resize: none; display: none;\"></textarea></div><iframe style=\"display: none;\"></iframe></div><iframe height=\"0\" src=\"//4620401.fls.doubleclick.net/activityi;src=4620401;type=conve0;cat=p3pdp0;ord=1;num=2267947602662;gtm=2wg3v0;auiddc=102065598.1617944614;u11=2021-08-26;u12=2021-08-31;u1=5;u10=undefined;u16=Searsport;u17=US;u19=https%3A%2F%2Fwww.airbnb.com%2Frooms%2F44181839%3Fadults%3D6%26check_in%3D2021-08-26%26check_out%3D2021-08-31%26federated_search_id%3D5e280712-2e1f-42f2-9979-655134f5c0a4%26source_impression_id%3Dp3_1617845905_Z%252FEoONR0YA7peOYz%26guests%3D1;u7=6;u8=0;u9=0;u22=false;u21=visitor;u34=0;u5=1617944608_ODY0OTkxNjEwMGRm;~oref=https%3A%2F%2Fwww.airbnb.com%2Frooms%2F44181839%3Fadults%3D6%26check_in%3D2021-08-26%26check_out%3D2021-08-31%26federated_search_id%3D5e280712-2e1f-42f2-9979-655134f5c0a4%26source_impression_id%3Dp3_1617845905_Z%252FEoONR0YA7peOYz%26guests%3D1?\" style=\"display: none; visibility: hidden;\" width=\"0\"></iframe><iframe height=\"0\" src=\"//4620401.fls.doubleclick.net/activityi;src=4620401;type=gen;cat=airbn0;ord=1;num=2605410116988;gtm=2wg3v0;auiddc=102065598.1617944614;u19=https%3A%2F%2Fwww.airbnb.com%2Frooms%2F44181839%3Fadults%3D6%26check_in%3D2021-08-26%26check_out%3D2021-08-31%26federated_search_id%3D5e280712-2e1f-42f2-9979-655134f5c0a4%26source_impression_id%3Dp3_1617845905_Z%252FEoONR0YA7peOYz%26guests%3D1;u21=visitor;u22=false;u34=0;~oref=https%3A%2F%2Fwww.airbnb.com%2Frooms%2F44181839%3Fadults%3D6%26check_in%3D2021-08-26%26check_out%3D2021-08-31%26federated_search_id%3D5e280712-2e1f-42f2-9979-655134f5c0a4%26source_impression_id%3Dp3_1617845905_Z%252FEoONR0YA7peOYz%26guests%3D1?\" style=\"display: none; visibility: hidden;\" width=\"0\"></iframe><iframe height=\"0\" src=\"//4620401.fls.doubleclick.net/activityi;src=4620401;type=tdu;cat=dmflo0;ord=607504202979;gtm=2wg3v0;auiddc=102065598.1617944614;~oref=https%3A%2F%2Fwww.airbnb.com%2Frooms%2F44181839%3Fadults%3D6%26check_in%3D2021-08-26%26check_out%3D2021-08-31%26federated_search_id%3D5e280712-2e1f-42f2-9979-655134f5c0a4%26source_impression_id%3Dp3_1617845905_Z%252FEoONR0YA7peOYz%26guests%3D1?\" style=\"display: none; visibility: hidden;\" width=\"0\"></iframe><iframe height=\"0\" src=\"//4620401.fls.doubleclick.net/activityi;src=4620401;type=tdu;cat=dm_us_vu;ord=1;num=2960180413811;gtm=2wg3v0;auiddc=102065598.1617944614;~oref=https%3A%2F%2Fwww.airbnb.com%2Frooms%2F44181839%3Fadults%3D6%26check_in%3D2021-08-26%26check_out%3D2021-08-31%26federated_search_id%3D5e280712-2e1f-42f2-9979-655134f5c0a4%26source_impression_id%3Dp3_1617845905_Z%252FEoONR0YA7peOYz%26guests%3D1?\" style=\"display: none; visibility: hidden;\" width=\"0\"></iframe><div id=\"scroll-hit-tester-0\" style=\"top: 0px; position: absolute; height: 1px; width: 1px; z-index: -1; contain: strict;\"></div><div id=\"batBeacon979070329848\" style=\"width:0px; height:0px; display:none; visibility:hidden;\"><img alt=\"\" height=\"0\" id=\"batBeacon617439728896\" src=\"https://bat.bing.com/action/0?ti=5187185&amp;tm=gtm001&amp;Ver=2&amp;mid=30f4c665-8171-4eef-82db-3a64e67f5516&amp;sid=ef9c7cf098f011ebb3a7ff9ca88b6651&amp;vid=ef9df74098f011eb89681d75ef2332f5&amp;vids=1&amp;pi=1200101525&amp;lg=en-US&amp;sw=1920&amp;sh=1080&amp;sc=24&amp;tl=Crescent's%20Nook%3A%20Waterfront%20Gem%20on%20Spring%20Fed%20Pond%20-%20Cottages%20for%20Rent%20in%20Searsport,%20Maine,%20United%20States&amp;p=https%3A%2F%2Fwww.airbnb.com%2Frooms%2F44181839%3Fadults%3D6%26check_in%3D2021-08-26%26check_out%3D2021-08-31%26federated_search_id%3D5e280712-2e1f-42f2-9979-655134f5c0a4%26source_impression_id%3Dp3_1617845905_Z%252FEoONR0YA7peOYz%26guests%3D1&amp;r=&amp;lt=2346&amp;evt=pageLoad&amp;msclkid=N&amp;sv=1&amp;rn=899809\" style=\"width:0px; height:0px; display:none; visibility:hidden;\" width=\"0\"/></div><iframe height=\"0\" src=\"//4620401.fls.doubleclick.net/activityi;src=4620401;type=conve0;cat=p3pdp0;ord=1;num=5621049016512;gtm=2wg3v0;auiddc=102065598.1617944614;u11=2021-08-26;u12=2021-08-31;u1=5;u10=undefined;u16=Searsport;u17=US;u19=https%3A%2F%2Fwww.airbnb.com%2Frooms%2F44181839%3Fadults%3D6%26check_in%3D2021-08-26%26check_out%3D2021-08-31%26federated_search_id%3D5e280712-2e1f-42f2-9979-655134f5c0a4%26source_impression_id%3Dp3_1617845905_Z%252FEoONR0YA7peOYz%26guests%3D1;u7=6;u8=0;u9=0;u22=false;u21=visitor;u34=0;u5=1617944608_ODY0OTkxNjEwMGRm;~oref=https%3A%2F%2Fwww.airbnb.com%2Frooms%2F44181839%3Fadults%3D6%26check_in%3D2021-08-26%26check_out%3D2021-08-31%26federated_search_id%3D5e280712-2e1f-42f2-9979-655134f5c0a4%26source_impression_id%3Dp3_1617845905_Z%252FEoONR0YA7peOYz%26guests%3D1?\" style=\"display: none; visibility: hidden;\" width=\"0\"></iframe><iframe src=\"https://bid.g.doubleclick.net/xbbe/pixel?d=KAE\" style=\"display: none;\"></iframe></body></html>\n"
     ]
    }
   ],
   "source": [
    "#use beautiful soup to parse the html\n",
    "\n",
    "airSoup=bs(airHTML,'html.parser')\n",
    "\n",
    "print(airSoup)\n",
    "\n",
    "\n",
    "#parsing the html\n",
    "# nasa_news_soup=bs(nasa_news_html,'html.parser')"
   ]
  },
  {
   "cell_type": "code",
   "execution_count": 54,
   "metadata": {},
   "outputs": [
    {
     "output_type": "stream",
     "name": "stdout",
     "text": [
      "1922\n"
     ]
    }
   ],
   "source": [
    "### get the total from the html\n",
    "total = airSoup.find(class_='_1d3ext9m').text\n",
    "\n",
    "### convert total into an integer\n",
    "total = int(total[1:].replace(',',''))\n",
    "\n",
    "print(total)\n",
    "\n"
   ]
  },
  {
   "cell_type": "code",
   "execution_count": 55,
   "metadata": {},
   "outputs": [
    {
     "output_type": "stream",
     "name": "stdout",
     "text": [
      "284\n"
     ]
    }
   ],
   "source": [
    "#get the base price per night\n",
    "basePerNight=airSoup.find(class_='_pgfqnw').text\n",
    "#conver to integer\n",
    "basePerNight= int(basePerNight[1:].replace(',',''))\n",
    "\n",
    "print(basePerNight)"
   ]
  },
  {
   "cell_type": "code",
   "execution_count": 30,
   "metadata": {},
   "outputs": [
    {
     "output_type": "stream",
     "name": "stdout",
     "text": [
      "start date:\n8/26/2021\n---------\n---------\nend date\n8/31/2021\n"
     ]
    }
   ],
   "source": [
    "#### eventually plan for the situation where the dates haven't been included yet\n",
    "\n",
    "# startDate= airSoup.findAll(class_='_1g8031c')\n",
    "dates= airSoup.findAll(class_='_1g8031c')\n",
    "\n",
    "##get the start date and the end date from the list of items with the \"\"\"date\"\"\" class\n",
    "startDate= dates[0].text\n",
    "endDate=dates[1].text\n",
    "\n",
    "print(startDate)\n",
    "\n",
    "print(endDate)"
   ]
  },
  {
   "cell_type": "code",
   "execution_count": 49,
   "metadata": {},
   "outputs": [
    {
     "output_type": "stream",
     "name": "stdout",
     "text": [
      "5\n"
     ]
    }
   ],
   "source": [
    "###calculate the numbert of nights use the end and start dates. uses datetime, I could use an alias for date time to make the prettier\n",
    "nights = int((datetime.datetime.strptime(endDate,'%m/%d/%Y')-datetime.datetime.strptime(startDate,'%m/%d/%Y')).days)\n",
    "print(nights)"
   ]
  },
  {
   "cell_type": "code",
   "execution_count": 58,
   "metadata": {},
   "outputs": [
    {
     "output_type": "stream",
     "name": "stdout",
     "text": [
      "502\n"
     ]
    }
   ],
   "source": [
    "#use the base fee per night, number of nights, and total to calculate the 'other fees'\n",
    "extraFees = total - basePerNight*nights\n",
    "\n",
    "##### add some sort of validation for this calculation?\n",
    "print(extraFees)\n"
   ]
  },
  {
   "cell_type": "code",
   "execution_count": null,
   "metadata": {},
   "outputs": [],
   "source": [
    "##############################################################################################################\n",
    "##############################################################################################################\n",
    "##############################################################################################################\n",
    "##############################################################################################################\n",
    "##############################################################################################################\n",
    "##############################################################################################################"
   ]
  },
  {
   "cell_type": "code",
   "execution_count": null,
   "metadata": {},
   "outputs": [],
   "source": [
    "#### take everything from above the block and make it dynamic\n",
    "#psuedo:\n",
    "\n",
    "#open the csv and save the links to a list\n",
    "\n",
    "# create an HTML list to store the html from each site\n",
    "\n",
    "# define the broswer and the executable path for the chrome driver\n",
    "\n",
    "# visit each url in the list of links\n",
    "    # save the html for each page to the HTML list\n",
    "    # use splinter to click on the \"readmore\" button at the end of the description and save the full description\n",
    "# close the browser once evry site has been hit\n",
    "\n",
    "# loop through the the list of html pages\n",
    "    # parse each page to make some soup\n",
    "    # use soup to get\n",
    "        # get the total\n",
    "        # price per night\n",
    "        # start date\n",
    "        # end date\n",
    "        # ----\n",
    "        # (other things to possibly add):\n",
    "        # both titles\n",
    "        # average rating\n",
    "        # number of reviews\n",
    "        # number of guests\n",
    "        # number of bedrooms\n",
    "        # number of beds\n",
    "        # number of bathrooms\n",
    "    # calculate the number of nights \n",
    "\n",
    "\n",
    "\n",
    "\n",
    "### notes:\n",
    "\n",
    "### look into using this api from skyscanner to get ticket prices\n",
    "\n",
    "# https://www.partners.skyscanner.net/affiliates/travel-apis\n",
    "\n",
    "\n",
    "\n",
    "##### maybe i could map the locations"
   ]
  }
 ]
}